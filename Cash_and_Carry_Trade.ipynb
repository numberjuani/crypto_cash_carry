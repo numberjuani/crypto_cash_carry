{
  "nbformat": 4,
  "nbformat_minor": 0,
  "metadata": {
    "colab": {
      "name": "Cash and Carry Trade.ipynb",
      "provenance": [],
      "collapsed_sections": [],
      "authorship_tag": "ABX9TyPn0NrztVf6TpVacvhwjwX8",
      "include_colab_link": true
    },
    "kernelspec": {
      "name": "python3",
      "display_name": "Python 3"
    },
    "language_info": {
      "name": "python"
    }
  },
  "cells": [
    {
      "cell_type": "markdown",
      "metadata": {
        "id": "view-in-github",
        "colab_type": "text"
      },
      "source": [
        "<a href=\"https://colab.research.google.com/github/numberjuani/crypto_cash_carry/blob/main/Cash_and_Carry_Trade.ipynb\" target=\"_parent\"><img src=\"https://colab.research.google.com/assets/colab-badge.svg\" alt=\"Open In Colab\"/></a>"
      ]
    },
    {
      "cell_type": "code",
      "execution_count": null,
      "metadata": {
        "id": "SiPFsBP9Pai1"
      },
      "outputs": [],
      "source": [
        "!pip3 install binance-connector\n",
        "!pip3 install binance-futures-connector"
      ]
    },
    {
      "cell_type": "code",
      "source": [
        "from binance.spot import Spot as SpotClient\n",
        "from binance.delivery import Delivery as FuturesClient\n",
        "import pandas as pd\n",
        "%load_ext google.colab.data_table"
      ],
      "metadata": {
        "id": "R0swqfS3PsiR"
      },
      "execution_count": null,
      "outputs": []
    },
    {
      "cell_type": "markdown",
      "source": [
        "First we establish clients to the spot, and COIN-M margined futures."
      ],
      "metadata": {
        "id": "njdav7OvZNCW"
      }
    },
    {
      "cell_type": "code",
      "source": [
        "spot_client = SpotClient()\n",
        "futures_client = FuturesClient()"
      ],
      "metadata": {
        "id": "X7fwgqryQAZ_"
      },
      "execution_count": null,
      "outputs": []
    },
    {
      "cell_type": "markdown",
      "source": [
        "Now we obtain information for all listed contracts under the COIN-M futures, which will allows to filter by those with a valid expiration date, ignoring perpetuals."
      ],
      "metadata": {
        "id": "iBGEhOTmZUp4"
      }
    },
    {
      "cell_type": "code",
      "source": [
        "coin_m_futures_info = pd.DataFrame(futures_client.exchange_info()['symbols'])\n",
        "coin_m_futures_info['deliveryDate'] = pd.to_datetime(coin_m_futures_info['deliveryDate'],unit='ms')\n",
        "#remove all perpetual contracts from the list\n",
        "coin_m_futures_info = coin_m_futures_info[coin_m_futures_info.contractType != 'PERPETUAL']\n",
        "coin_m_futures_info = coin_m_futures_info[['symbol','contractType','marginAsset','deliveryDate']]\n",
        "coin_m_futures_info"
      ],
      "metadata": {
        "id": "71kodN_IQpzn"
      },
      "execution_count": null,
      "outputs": []
    },
    {
      "cell_type": "markdown",
      "source": [
        "Now we obtain prices for all the futures, and filter by the contracts that do expire, which we obtained in the previous step."
      ],
      "metadata": {
        "id": "2P59hyXPZeee"
      }
    },
    {
      "cell_type": "code",
      "source": [
        "coin_m_futures_pricing = pd.DataFrame(futures_client.book_ticker())\n",
        "non_perpetual = coin_m_futures_pricing[coin_m_futures_pricing.symbol.isin(non_perpetual_symbols)]\n",
        "#since we'll be selling the futures we'll keep the bid price.\n",
        "non_perpetual = non_perpetual[['symbol','bidPrice']]\n",
        "non_perpetual"
      ],
      "metadata": {
        "id": "VbjENlj1YGVj"
      },
      "execution_count": null,
      "outputs": []
    },
    {
      "cell_type": "markdown",
      "source": [
        "Now we consolidate all the futures data into one dataframe."
      ],
      "metadata": {
        "id": "iKms6lnDB9kD"
      }
    },
    {
      "cell_type": "code",
      "source": [
        "futures = pd.merge(coin_m_futures_info,non_perpetual,on='symbol')\n",
        "futures"
      ],
      "metadata": {
        "id": "xO00HJIpei9w"
      },
      "execution_count": null,
      "outputs": []
    },
    {
      "cell_type": "markdown",
      "source": [
        "The spot endpoint has an incredibly large number of coins, so we have to narrow it down by those that have a coin-m futures that expire and those that trade with a dollar quote."
      ],
      "metadata": {
        "id": "5nVNzqtuCEAc"
      }
    },
    {
      "cell_type": "code",
      "source": [
        "coins_to_consider = futures.marginAsset.values.tolist()\n",
        "quotes_to_consider = ['USD','USDT','BUSD']"
      ],
      "metadata": {
        "id": "Gs4eJy0vfNye"
      },
      "execution_count": null,
      "outputs": []
    },
    {
      "cell_type": "code",
      "source": [
        "spot_info = pd.DataFrame(spot_client.exchange_info()['symbols'])\n",
        "spot_info = spot_info[spot_info.baseAsset.isin(coins_to_consider) & spot_info.quoteAsset.isin(quotes_to_consider)]\n",
        "spot_info = spot_info[['symbol','baseAsset','quoteAsset']]\n",
        "spot_info"
      ],
      "metadata": {
        "id": "ax3js8yzQRDu"
      },
      "execution_count": null,
      "outputs": []
    },
    {
      "cell_type": "code",
      "source": [
        "spot_prices = pd.DataFrame(spot_client.ticker_24hr())\n",
        "spot_prices = spot_prices[spot_prices.symbol.isin(spot_info.symbol)]\n",
        "#since the spot needs to be bought, we will save the ask price.\n",
        "spot_prices = spot_prices[['symbol','askPrice']]\n",
        "spot_prices"
      ],
      "metadata": {
        "id": "xu68VA7PYeQ7"
      },
      "execution_count": null,
      "outputs": []
    },
    {
      "cell_type": "markdown",
      "source": [
        "Now we merge spot info with its pricing data, like we did before."
      ],
      "metadata": {
        "id": "KNwomEkHCdGw"
      }
    },
    {
      "cell_type": "code",
      "source": [
        "spot_info = pd.merge(spot_prices,spot_info,on='symbol')\n",
        "spot_info"
      ],
      "metadata": {
        "id": "Bfwls7bhhM6A"
      },
      "execution_count": null,
      "outputs": []
    },
    {
      "cell_type": "markdown",
      "source": [
        "Now we finally are ready to merge spot and futures pairs."
      ],
      "metadata": {
        "id": "tC4dQm08C2o3"
      }
    },
    {
      "cell_type": "code",
      "source": [
        "spot_and_futures_combo = pd.merge(spot_info,futures,left_on='baseAsset',right_on='marginAsset',suffixes=('_spot', '_future'))\n",
        "spot_and_futures_combo"
      ],
      "metadata": {
        "id": "HM-BHcFFh7jW"
      },
      "execution_count": null,
      "outputs": []
    },
    {
      "cell_type": "code",
      "source": [
        "spot_and_futures_combo['bidPrice'] = spot_and_futures_combo['bidPrice'].astype(float)\n",
        "spot_and_futures_combo['askPrice'] = spot_and_futures_combo['askPrice'].astype(float)\n",
        "spot_and_futures_combo['price_difference'] = spot_and_futures_combo['bidPrice'] - spot_and_futures_combo['askPrice']\n",
        "spot_and_futures_combo['price_difference_pct'] = 100*(spot_and_futures_combo['price_difference']/spot_and_futures_combo['askPrice'])\n",
        "spot_and_futures_combo['days_to_expiration'] = (spot_and_futures_combo.deliveryDate - pd.Timestamp.today()).dt.days\n",
        "spot_and_futures_combo['return'] = spot_and_futures_combo['price_difference_pct']/spot_and_futures_combo['days_to_expiration']\n",
        "spot_and_futures_combo['annual_ror'] =  365*(spot_and_futures_combo['return']/spot_and_futures_combo['days_to_expiration'])\n",
        "spot_and_futures_combo.sort_values(by='annual_ror',inplace=True,ascending=False)\n",
        "spot_and_futures_combo = spot_and_futures_combo[['symbol_spot','symbol_future','days_to_expiration','baseAsset','quoteAsset','bidPrice','askPrice','price_difference','price_difference_pct','return','annual_ror']]\n",
        "spot_and_futures_combo"
      ],
      "metadata": {
        "id": "wqwclrVGjXcc"
      },
      "execution_count": null,
      "outputs": []
    }
  ]
}